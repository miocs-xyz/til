{
 "cells": [
  {
   "cell_type": "markdown",
   "metadata": {},
   "source": [
    "# Struct\n",
    "\n",
    "今天是2021年1月1日，因为身处新冠疫区，现在已经封闭隔离第10多天了，在家里呆着呆着2010年就过去了。\n",
    "还是老老实实学习吧。\n",
    "\n",
    "今天我要去回顾一下Rust的Struce。\n",
    "首先来看下如何定义一个struct"
   ]
  },
  {
   "cell_type": "code",
   "execution_count": 3,
   "metadata": {},
   "outputs": [],
   "source": [
    "struct User {\n",
    "    id: i64,\n",
    "    name: String,\n",
    "    passwd: String,\n",
    "}"
   ]
  },
  {
   "cell_type": "markdown",
   "metadata": {},
   "source": [
    "至此一个**struct**就定义好了。\n",
    "\n",
    "那么我们如何使用它呢？"
   ]
  },
  {
   "cell_type": "code",
   "execution_count": 4,
   "metadata": {},
   "outputs": [
    {
     "ename": "Error",
     "evalue": "`User` doesn't implement `Debug`",
     "output_type": "error",
     "traceback": [
      "println!(\"{:?}\", user);",
      "                 ^^^^ `User` cannot be formatted using `{:?}`",
      "`User` doesn't implement `Debug`"
     ]
    }
   ],
   "source": [
    "let user = User {id: 1,\n",
    "name: String::from(\"Tom\"),\n",
    "passwd: String::from(\"abc123\"),};\n",
    "\n",
    "\n",
    "println!(\"{:?}\", user);"
   ]
  },
  {
   "cell_type": "markdown",
   "metadata": {},
   "source": [
    "这里出现了错误，因为**struct**没有实现**Debug**特型，所以无法使用Debug输出。\n",
    "\n",
    "要想解决这个问题也很简单，在定义结构的时候带上`#[derive(Debug)]`就可以了。\n",
    "\n",
    "这一步，叫做为结构体派生共有性。"
   ]
  },
  {
   "cell_type": "code",
   "execution_count": 5,
   "metadata": {},
   "outputs": [],
   "source": [
    "#[derive(Debug)]\n",
    "struct User {\n",
    "    id: i64,\n",
    "    name: String,\n",
    "    passwd: String,\n",
    "}"
   ]
  },
  {
   "cell_type": "markdown",
   "metadata": {},
   "source": [
    "这个时候我们再使用Debug输出就可以了。"
   ]
  },
  {
   "cell_type": "code",
   "execution_count": 6,
   "metadata": {},
   "outputs": [
    {
     "name": "stdout",
     "output_type": "stream",
     "text": [
      "User { id: 1, name: \"Tom\", passwd: \"abc123\" }\n"
     ]
    }
   ],
   "source": [
    "let user = User { id: 1, name: String::from(\"Tom\"), passwd: String::from(\"abc123\")};\n",
    "\n",
    "println!(\"{:?}\", user);"
   ]
  },
  {
   "cell_type": "markdown",
   "metadata": {},
   "source": [
    "每次都要写这个大括号是不是觉得很麻烦，这里我们可以给结构体追加方法，Rust的结构体方法一定要放到**impl块**中"
   ]
  },
  {
   "cell_type": "code",
   "execution_count": 7,
   "metadata": {},
   "outputs": [],
   "source": [
    "impl User {\n",
    "    fn new(id: i64, name: String, passwd: String) -> User {\n",
    "        User{ id, name, passwd }\n",
    "    }\n",
    "}"
   ]
  },
  {
   "cell_type": "markdown",
   "metadata": {},
   "source": [
    "这样的话，我们就可以通过调用结构体的new方法来创建结构体了。"
   ]
  },
  {
   "cell_type": "code",
   "execution_count": 8,
   "metadata": {},
   "outputs": [
    {
     "name": "stdout",
     "output_type": "stream",
     "text": [
      "User { id: 1, name: \"Jerry\", passwd: \"abc456\" }\n"
     ]
    }
   ],
   "source": [
    "let user = User::new(1, String::from(\"Jerry\"), String::from(\"abc456\"));\n",
    "\n",
    "println!(\"{:?}\", user);"
   ]
  },
  {
   "cell_type": "markdown",
   "metadata": {},
   "source": [
    "上面的例子里面我们使用了**String**作为name和passwd的类型，所以赋值的时候必须使用String::from()方法，我们可以修改下struct定义，让他可以使用**&str**。"
   ]
  },
  {
   "cell_type": "code",
   "execution_count": 9,
   "metadata": {},
   "outputs": [
    {
     "name": "stdout",
     "output_type": "stream",
     "text": [
      "UserStr { id: 1, name: \"Thomas\", passwd: \"abc789\" }\n"
     ]
    }
   ],
   "source": [
    "#[derive(Debug)]\n",
    "struct UserStr<'a>{\n",
    "    id: i64,\n",
    "    name: &'a str,\n",
    "    passwd: &'a str,\n",
    "}\n",
    "impl <'a> UserStr<'a> {\n",
    "    fn new(id: i64, name: &'a str, passwd: &'a str) -> UserStr<'a> {\n",
    "        UserStr {id, name, passwd}\n",
    "    }\n",
    "}\n",
    "\n",
    "let mut user = UserStr::new(1, \"Thomas\", \"abc789\");\n",
    "\n",
    "println!(\"{:?}\", user);"
   ]
  },
  {
   "cell_type": "markdown",
   "metadata": {},
   "source": [
    "这里使用到的**'a**就是生命周期参数。\n",
    "\n",
    "现在我想时实装一个方法，来更新密码字段。我该怎么做呢？"
   ]
  },
  {
   "cell_type": "code",
   "execution_count": 10,
   "metadata": {},
   "outputs": [],
   "source": [
    "impl <'a> UserStr<'a> {\n",
    "    fn update_password(&mut self, passwd: &'a str) {\n",
    "        self.passwd = passwd;\n",
    "    }\n",
    "}"
   ]
  },
  {
   "cell_type": "markdown",
   "metadata": {},
   "source": [
    "这样的明示的将代表自己的变量self传给自己的方法被称为**机构体的关联函数**.\n",
    "\n",
    "通过.update_password()来调用."
   ]
  },
  {
   "cell_type": "code",
   "execution_count": 11,
   "metadata": {},
   "outputs": [
    {
     "name": "stdout",
     "output_type": "stream",
     "text": [
      "UserStr { id: 1, name: \"Thomas\", passwd: \"def123\" }\n"
     ]
    }
   ],
   "source": [
    "user.update_password(\"def123\");\n",
    "\n",
    "println!(\"{:?}\", user);"
   ]
  },
  {
   "cell_type": "markdown",
   "metadata": {},
   "source": [
    "这样我们就更新了UserStr结构体。"
   ]
  },
  {
   "cell_type": "code",
   "execution_count": null,
   "metadata": {},
   "outputs": [],
   "source": []
  }
 ],
 "metadata": {
  "kernelspec": {
   "display_name": "Rust",
   "language": "rust",
   "name": "rust"
  },
  "language_info": {
   "codemirror_mode": "rust",
   "file_extension": ".rs",
   "mimetype": "text/rust",
   "name": "Rust",
   "pygment_lexer": "rust",
   "version": ""
  }
 },
 "nbformat": 4,
 "nbformat_minor": 4
}
