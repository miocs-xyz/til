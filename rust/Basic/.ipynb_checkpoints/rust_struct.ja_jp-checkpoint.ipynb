{
 "cells": [
  {
   "cell_type": "markdown",
   "metadata": {},
   "source": [
    "# Struct\n",
    "\n",
    "今日は2021年1月1日です。新年なのに近くで新コロナ感染者が出たせいで、もう10日以上隔離されました。部屋にこもったまま2020年が終わりました。\n",
    "大人しく勉強しましょう。\n",
    "\n",
    "今日はちょっとRustの基本（Struce）を見てみたいと思います。\n",
    "まずは下記のように**struct**キーワードで構造体を定義します。"
   ]
  },
  {
   "cell_type": "code",
   "execution_count": 2,
   "metadata": {},
   "outputs": [],
   "source": [
    "struct User {\n",
    "    id: i64,\n",
    "    name: String,\n",
    "    passwd: String,\n",
    "}"
   ]
  },
  {
   "cell_type": "markdown",
   "metadata": {},
   "source": [
    "**struct**が終わって、どうやって使うかな？\n",
    "\n",
    "下のコードを見てください。"
   ]
  },
  {
   "cell_type": "code",
   "execution_count": 3,
   "metadata": {},
   "outputs": [
    {
     "ename": "Error",
     "evalue": "`User` doesn't implement `Debug`",
     "output_type": "error",
     "traceback": [
      "println!(\"{:?}\", user);",
      "                 ^^^^ `User` cannot be formatted using `{:?}`",
      "`User` doesn't implement `Debug`"
     ]
    }
   ],
   "source": [
    "let user = User {id: 1,\n",
    "name: String::from(\"Tom\"),\n",
    "passwd: String::from(\"abc123\"),};\n",
    "\n",
    "\n",
    "println!(\"{:?}\", user);"
   ]
  },
  {
   "cell_type": "markdown",
   "metadata": {},
   "source": [
    "エラーが出ました。**struct**は**Debug** traitを継承していないですから、Debug出力できません。\n",
    "\n",
    "この問題は簡単に解決できます。下のコードのように`#[derive(Debug)]`を追加すればよいです。"
   ]
  },
  {
   "cell_type": "code",
   "execution_count": 4,
   "metadata": {},
   "outputs": [],
   "source": [
    "#[derive(Debug)]\n",
    "struct User {\n",
    "    id: i64,\n",
    "    name: String,\n",
    "    passwd: String,\n",
    "}"
   ]
  },
  {
   "cell_type": "markdown",
   "metadata": {},
   "source": [
    "こうすれば、Debug出力ができるようになりました。"
   ]
  },
  {
   "cell_type": "code",
   "execution_count": 5,
   "metadata": {},
   "outputs": [
    {
     "name": "stdout",
     "output_type": "stream",
     "text": [
      "User { id: 1, name: \"Tom\", passwd: \"abc123\" }\n"
     ]
    }
   ],
   "source": [
    "let user = User { id: 1, name: String::from(\"Tom\"), passwd: String::from(\"abc123\")};\n",
    "\n",
    "println!(\"{:?}\", user);"
   ]
  },
  {
   "cell_type": "markdown",
   "metadata": {},
   "source": [
    "でも毎回各キーワードペーアを書くのも面倒くさいですから、構造体に生成関数を追加する手もあります。ちなみにRust構造体関数は**implブロック**の中で定義しなければいけません。"
   ]
  },
  {
   "cell_type": "code",
   "execution_count": 6,
   "metadata": {},
   "outputs": [],
   "source": [
    "impl User {\n",
    "    fn new(id: i64, name: String, passwd: String) -> User {\n",
    "        User{ id, name, passwd }\n",
    "    }\n",
    "}"
   ]
  },
  {
   "cell_type": "markdown",
   "metadata": {},
   "source": [
    "こうすれば、このnew関数の呼び出しにより新しい構造体が生成できます。"
   ]
  },
  {
   "cell_type": "code",
   "execution_count": 7,
   "metadata": {},
   "outputs": [
    {
     "name": "stdout",
     "output_type": "stream",
     "text": [
      "User { id: 1, name: \"Jerry\", passwd: \"abc456\" }\n"
     ]
    }
   ],
   "source": [
    "let user = User::new(1, String::from(\"Jerry\"), String::from(\"abc456\"));\n",
    "\n",
    "println!(\"{:?}\", user);"
   ]
  },
  {
   "cell_type": "markdown",
   "metadata": {},
   "source": [
    "このような::で呼び出すのは自由関数と呼ばれます。\n",
    "\n",
    "上記のネームとパスワードは**String**なので，毎回String::from()関数で生成しなければいけないですが、ちょっと定義を変わって，**&str**が使えるようにしましょう。"
   ]
  },
  {
   "cell_type": "code",
   "execution_count": 8,
   "metadata": {},
   "outputs": [
    {
     "name": "stdout",
     "output_type": "stream",
     "text": [
      "UserStr { id: 1, name: \"Thomas\", passwd: \"abc789\" }\n"
     ]
    }
   ],
   "source": [
    "#[derive(Debug)]\n",
    "struct UserStr<'a>{\n",
    "    id: i64,\n",
    "    name: &'a str,\n",
    "    passwd: &'a str,\n",
    "}\n",
    "impl <'a> UserStr<'a> {\n",
    "    fn new(id: i64, name: &'a str, passwd: &'a str) -> UserStr<'a> {\n",
    "        UserStr {id, name, passwd}\n",
    "    }\n",
    "}\n",
    "\n",
    "let mut user = UserStr::new(1, \"Thomas\", \"abc789\");\n",
    "\n",
    "println!(\"{:?}\", user);"
   ]
  },
  {
   "cell_type": "markdown",
   "metadata": {},
   "source": [
    "ここで使った**'a**は生命周期パラメータと呼ばれます。\n",
    "\n",
    "ここで、新しい関数を作って、パスワードを変更します。"
   ]
  },
  {
   "cell_type": "code",
   "execution_count": 13,
   "metadata": {},
   "outputs": [],
   "source": [
    "impl <'a> UserStr<'a> {\n",
    "    fn update_password(&mut self, passwd: &'a str) {\n",
    "        self.passwd = passwd;\n",
    "    }\n",
    "}"
   ]
  },
  {
   "cell_type": "markdown",
   "metadata": {},
   "source": [
    "このように明示的にselfを自分に渡す関数は**関連関数**と呼ばれます。\n",
    "\n",
    "user.update_password()より呼び出せます。"
   ]
  },
  {
   "cell_type": "code",
   "execution_count": 14,
   "metadata": {},
   "outputs": [
    {
     "name": "stdout",
     "output_type": "stream",
     "text": [
      "UserStr { id: 1, name: \"Thomas\", passwd: \"def123\" }\n"
     ]
    }
   ],
   "source": [
    "user.update_password(\"def123\");\n",
    "\n",
    "println!(\"{:?}\", user);"
   ]
  },
  {
   "cell_type": "markdown",
   "metadata": {},
   "source": [
    "こうやってパスワードを変更しました。"
   ]
  },
  {
   "cell_type": "code",
   "execution_count": null,
   "metadata": {},
   "outputs": [],
   "source": []
  }
 ],
 "metadata": {
  "kernelspec": {
   "display_name": "Rust",
   "language": "rust",
   "name": "rust"
  },
  "language_info": {
   "codemirror_mode": "rust",
   "file_extension": ".rs",
   "mimetype": "text/rust",
   "name": "Rust",
   "pygment_lexer": "rust",
   "version": ""
  }
 },
 "nbformat": 4,
 "nbformat_minor": 4
}
