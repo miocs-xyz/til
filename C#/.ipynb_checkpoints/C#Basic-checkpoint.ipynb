{
 "cells": [
  {
   "cell_type": "markdown",
   "metadata": {},
   "source": [
    "# C# Basic(The basic learning with C#)"
   ]
  },
  {
   "cell_type": "code",
   "execution_count": 2,
   "metadata": {},
   "outputs": [
    {
     "name": "stdout",
     "output_type": "stream",
     "text": [
      "Hello, world!\n"
     ]
    }
   ],
   "source": [
    "Console.WriteLine(\"Hello, world!\"); // Show a message."
   ]
  },
  {
   "cell_type": "markdown",
   "metadata": {},
   "source": [
    "At below I declear four variables."
   ]
  },
  {
   "cell_type": "code",
   "execution_count": 9,
   "metadata": {},
   "outputs": [],
   "source": [
    "string part1 = \"the ultimate question\";\n",
    "string part2 = \"of something\";\n",
    "int theAnswer = 42;\n",
    "int andAnotherThing;"
   ]
  },
  {
   "cell_type": "markdown",
   "metadata": {},
   "source": [
    "Reassigning values to the variables declare above."
   ]
  },
  {
   "cell_type": "code",
   "execution_count": 10,
   "metadata": {},
   "outputs": [],
   "source": [
    "part2 = \" of life, the universe, and everything.\";\n",
    "andAnotherThing = 123;"
   ]
  },
  {
   "cell_type": "markdown",
   "metadata": {},
   "source": [
    "So, here didn't show any error, \n",
    "**then we declare a more variable.**\n",
    "\n",
    "Because variables have a static type, It knows that the variable called theAnswer has a type of int, which is a numeric type, so it will report an error if we attempt to assign a text string into it."
   ]
  },
  {
   "cell_type": "code",
   "execution_count": 11,
   "metadata": {},
   "outputs": [
    {
     "name": "stderr",
     "output_type": "stream",
     "text": [
      "\n",
      "(1,13): error CS0029: Cannot implicitly convert type 'string' to 'int'\n",
      "\n"
     ]
    },
    {
     "ename": "Cell not executed",
     "evalue": "compilation error",
     "output_type": "error",
     "traceback": []
    }
   ],
   "source": [
    "theAnswer = \"The compiler will reject this.\";"
   ]
  },
  {
   "cell_type": "markdown",
   "metadata": {},
   "source": [
    "Let the compiler work it out for you by using the keyword **var** in place of the data type. "
   ]
  },
  {
   "cell_type": "code",
   "execution_count": 12,
   "metadata": {},
   "outputs": [],
   "source": [
    "var part1 = \"the ultimate question\";\n",
    "var part2 = \"of something\";\n",
    "var theAnswer = 40 + 2;"
   ]
  },
  {
   "cell_type": "markdown",
   "metadata": {},
   "source": [
    "The C#'s **var** is different from javascript. \n",
    "\n",
    "The variable decleard by **var** will still all **statically typed**."
   ]
  },
  {
   "cell_type": "code",
   "execution_count": 2,
   "metadata": {},
   "outputs": [
    {
     "name": "stderr",
     "output_type": "stream",
     "text": [
      "\n",
      "(2,13): error CS0029: Cannot implicitly convert type 'string' to 'int'\n",
      "\n"
     ]
    },
    {
     "ename": "Cell not executed",
     "evalue": "compilation error",
     "output_type": "error",
     "traceback": []
    }
   ],
   "source": [
    "var theAnswer = 42;\n",
    "theAnswer = \"The compiler will reject this.\";"
   ]
  },
  {
   "cell_type": "markdown",
   "metadata": {},
   "source": [
    " There are some situations in which I will use var. One is to avoid writing the name of the type twice, as in this example:"
   ]
  },
  {
   "cell_type": "code",
   "execution_count": 3,
   "metadata": {},
   "outputs": [],
   "source": [
    "var numbers = new List<int>();"
   ]
  },
  {
   "cell_type": "code",
   "execution_count": 4,
   "metadata": {},
   "outputs": [],
   "source": [
    "List<int> numbers = new List<int>();"
   ]
  },
  {
   "cell_type": "markdown",
   "metadata": {},
   "source": [
    "They are equivalent.But there is easier use **var**.\n",
    "\n",
    "You can declare and optionally initialize multiple variables in a single line. "
   ]
  },
  {
   "cell_type": "code",
   "execution_count": 5,
   "metadata": {},
   "outputs": [],
   "source": [
    "double a = 1, b = 2.5, c = -3;"
   ]
  },
  {
   "cell_type": "markdown",
   "metadata": {},
   "source": [
    "Variables are useful only because we can refer back to them later in our code."
   ]
  },
  {
   "cell_type": "code",
   "execution_count": 2,
   "metadata": {},
   "outputs": [
    {
     "name": "stdout",
     "output_type": "stream",
     "text": [
      "What is the answer to the ultimate question., of life, the universe, and everything?\n",
      "The answer to the ultimate question., of life, the universe, and everything, is: 42\n"
     ]
    }
   ],
   "source": [
    "string part1 = \"the ultimate question.\";\n",
    "string part2 = \"of something\";\n",
    "int theAnswer = 42;\n",
    "\n",
    "part2 = \"of life, the universe, and everything\";\n",
    "\n",
    "string questionText = \"What is the answer to \" + part1 + \", \" + part2 + \"?\";\n",
    "string answerText = \"The answer to \" + part1 + \", \" + part2 + \", is: \" + theAnswer;\n",
    "\n",
    "Console.WriteLine(questionText);\n",
    "Console.WriteLine(answerText);\n"
   ]
  },
  {
   "cell_type": "code",
   "execution_count": null,
   "metadata": {},
   "outputs": [],
   "source": []
  }
 ],
 "metadata": {
  "kernelspec": {
   "display_name": ".NET (C#)",
   "language": "C#",
   "name": ".net-csharp"
  },
  "language_info": {
   "file_extension": ".cs",
   "mimetype": "text/x-csharp",
   "name": "C#",
   "pygments_lexer": "csharp",
   "version": "8.0"
  }
 },
 "nbformat": 4,
 "nbformat_minor": 4
}
