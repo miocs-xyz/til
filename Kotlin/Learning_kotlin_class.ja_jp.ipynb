{
 "cells": [
  {
   "cell_type": "markdown",
   "metadata": {},
   "source": [
    "# Classes and Inheritance\n",
    "\n",
    "## Classes\n",
    "\n",
    "Kotlinはclassキーワードでクラスを定義します。"
   ]
  },
  {
   "cell_type": "code",
   "execution_count": 1,
   "metadata": {},
   "outputs": [],
   "source": [
    "class Invoice { /*...*/ }"
   ]
  },
  {
   "cell_type": "markdown",
   "metadata": {},
   "source": [
    "**クラスヘッダーとクラスボディは必須ではありません。**故に下記構文も\n",
    "正しいです。"
   ]
  },
  {
   "cell_type": "code",
   "execution_count": 2,
   "metadata": {},
   "outputs": [],
   "source": [
    "class Empty"
   ]
  },
  {
   "cell_type": "markdown",
   "metadata": {},
   "source": [
    "## Constructors\n",
    "\n",
    "Kotlinのクラスは1つの**primary constructor**および複数の**secndary constructors**を持つことが可能です。**primary constoructor**はクラスヘッダーのクラスの後ろで定義されます。"
   ]
  },
  {
   "cell_type": "code",
   "execution_count": 3,
   "metadata": {},
   "outputs": [],
   "source": [
    "class Person constructor(firstName: String) { /*...*/ }"
   ]
  },
  {
   "cell_type": "markdown",
   "metadata": {},
   "source": [
    "もし**primary constructor**はアノテーションと訪問制限が付いてない場合、**constructor**キーワードが省略できます。"
   ]
  },
  {
   "cell_type": "code",
   "execution_count": 4,
   "metadata": {},
   "outputs": [],
   "source": [
    "class Person(firstName: String) { /*...*/ }"
   ]
  },
  {
   "cell_type": "code",
   "execution_count": null,
   "metadata": {},
   "outputs": [],
   "source": []
  }
 ],
 "metadata": {
  "kernelspec": {
   "display_name": "Kotlin",
   "language": "kotlin",
   "name": "kotlin"
  },
  "language_info": {
   "codemirror_mode": "text/x-kotlin",
   "file_extension": ".kt",
   "mimetype": "text/x-kotlin",
   "name": "kotlin",
   "pygments_lexer": "kotlin",
   "version": "1.4.30-dev-3354"
  }
 },
 "nbformat": 4,
 "nbformat_minor": 4
}
