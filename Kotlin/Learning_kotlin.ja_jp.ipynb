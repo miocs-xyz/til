{
 "cells": [
  {
   "cell_type": "markdown",
   "metadata": {},
   "source": [
    "# 基本構文\n",
    "## パッケージの定義および導入\n",
    "パッケージ明細（specification）はソースコードの一番上に書きます。"
   ]
  },
  {
   "cell_type": "code",
   "execution_count": 1,
   "metadata": {},
   "outputs": [],
   "source": [
    "package my.demo\n",
    "import kotlin.text.*"
   ]
  },
  {
   "cell_type": "markdown",
   "metadata": {},
   "source": [
    "ディレクトリーとパッケージが一致する必要がありません。ソースファイルは**任意場所**に置くことが可能です。"
   ]
  },
  {
   "cell_type": "markdown",
   "metadata": {},
   "source": [
    "## プログラムの入り口\n",
    "Kotlinアプリの入り口は**main関数**です。"
   ]
  },
  {
   "cell_type": "code",
   "execution_count": 2,
   "metadata": {},
   "outputs": [
    {
     "name": "stdout",
     "output_type": "stream",
     "text": [
      "Hello world!\n"
     ]
    }
   ],
   "source": [
    "fun main() {\n",
    "    // \"Hello world!\"を出力します。\n",
    "    println(\"Hello world!\")\n",
    "}\n",
    "main()"
   ]
  },
  {
   "cell_type": "markdown",
   "metadata": {},
   "source": [
    "Ktorの勉強で、mainファンクションは下記のように書いてもいいとわかりました。"
   ]
  },
  {
   "cell_type": "code",
   "execution_count": 3,
   "metadata": {},
   "outputs": [
    {
     "name": "stdout",
     "output_type": "stream",
     "text": [
      "Hello, world!\n"
     ]
    }
   ],
   "source": [
    "fun main() = println(\"Hello, world!\")\n",
    "\n",
    "main()"
   ]
  },
  {
   "cell_type": "markdown",
   "metadata": {},
   "source": [
    "## 関数\n",
    "下記のは2つのInt型の引数を受けってInt型の値を戻ります。"
   ]
  },
  {
   "cell_type": "code",
   "execution_count": 4,
   "metadata": {},
   "outputs": [],
   "source": [
    "fun sum(a: Int, b: Int): Int {\n",
    "    return a + b\n",
    "}"
   ]
  },
  {
   "cell_type": "markdown",
   "metadata": {},
   "source": [
    "式(expression)関数および推測戻り値、ちなみにこの書き方はsingle-expression functionと呼ばれます。"
   ]
  },
  {
   "cell_type": "code",
   "execution_count": 5,
   "metadata": {},
   "outputs": [],
   "source": [
    "fun sum(a: Int, b: Int) = a + b"
   ]
  },
  {
   "cell_type": "markdown",
   "metadata": {},
   "source": [
    "式関数の戻り値のデータ型が推測できますが、ブロック関数は推測できません。例えば上記の関数をブロックにしたら"
   ]
  },
  {
   "cell_type": "code",
   "execution_count": 6,
   "metadata": {},
   "outputs": [
    {
     "name": "stderr",
     "output_type": "stream",
     "text": [
      "Line_5.jupyter.kts (2:12 - 17) Type mismatch: inferred type is Int but Unit was expected"
     ]
    }
   ],
   "source": [
    "fun sum(a: Int, b: Int) {\n",
    "    return a + b\n",
    "}"
   ]
  },
  {
   "cell_type": "markdown",
   "metadata": {},
   "source": [
    "推測した戻り値はUnit(何も戻りません)が実際戻ったのがInt型なので、エラーが出ました。これを修正するには明示的に戻り値を指定しなければいけません。"
   ]
  },
  {
   "cell_type": "code",
   "execution_count": 7,
   "metadata": {},
   "outputs": [
    {
     "name": "stdout",
     "output_type": "stream",
     "text": [
      "結果は5です。\n"
     ]
    }
   ],
   "source": [
    "fun sum(a: Int, b: Int): Int {\n",
    "    return a + b\n",
    "}\n",
    "println(\"結果は${sum(2, 3)}です。\")"
   ]
  },
  {
   "cell_type": "markdown",
   "metadata": {},
   "source": [
    "戻り値なしの関数は下記のように定義できます。"
   ]
  },
  {
   "cell_type": "code",
   "execution_count": 8,
   "metadata": {},
   "outputs": [],
   "source": [
    "fun printSum(a: Int, b: Int): Unit {\n",
    "    println(\"sum of $a and $b is ${a + b}\")\n",
    "}"
   ]
  },
  {
   "cell_type": "markdown",
   "metadata": {},
   "source": [
    "戻り値なしの場合、Unitが省略できます。"
   ]
  },
  {
   "cell_type": "code",
   "execution_count": 9,
   "metadata": {},
   "outputs": [],
   "source": [
    "fun printSum(a: Int, b: Int) {\n",
    "    println(\"sum of  $a and $b is ${a + b}\")\n",
    "}"
   ]
  },
  {
   "cell_type": "markdown",
   "metadata": {},
   "source": [
    "同様、上記関数は式関数に変換できます。"
   ]
  },
  {
   "cell_type": "code",
   "execution_count": 10,
   "metadata": {},
   "outputs": [
    {
     "name": "stdout",
     "output_type": "stream",
     "text": [
      "sum of 3 and 3 is 6\n"
     ]
    }
   ],
   "source": [
    "fun printSum(a: Int, b: Int) = println(\"sum of $a and $b is ${a + b}\")\n",
    "printSum(3, 3)"
   ]
  },
  {
   "cell_type": "markdown",
   "metadata": {},
   "source": [
    "## 変数\n",
    "読み専用のローカル変数は**val**キーワードで定義されます。1回のみ振り分けできます。"
   ]
  },
  {
   "cell_type": "code",
   "execution_count": 11,
   "metadata": {},
   "outputs": [
    {
     "name": "stderr",
     "output_type": "stream",
     "text": [
      "Line_10.jupyter.kts (4:1 - 2) Captured member values initialization is forbidden due to possible reassignment"
     ]
    }
   ],
   "source": [
    "val a: Int = 1\n",
    "val b = 2\n",
    "val c: Int\n",
    "c = 3"
   ]
  },
  {
   "cell_type": "markdown",
   "metadata": {},
   "source": [
    "再振り分け可能な変数は**var**キーワードで定義されます。"
   ]
  },
  {
   "cell_type": "code",
   "execution_count": 12,
   "metadata": {},
   "outputs": [
    {
     "name": "stdout",
     "output_type": "stream",
     "text": [
      "6\n"
     ]
    }
   ],
   "source": [
    "var x = 5\n",
    "x += 1\n",
    "println(x)"
   ]
  },
  {
   "cell_type": "markdown",
   "metadata": {},
   "source": [
    "最外層変数："
   ]
  },
  {
   "cell_type": "code",
   "execution_count": 13,
   "metadata": {},
   "outputs": [
    {
     "name": "stdout",
     "output_type": "stream",
     "text": [
      "0\n",
      "1\n"
     ]
    }
   ],
   "source": [
    "val PI = 3.14\n",
    "var x = 0\n",
    "println(x)\n",
    "fun incrementX() {\n",
    "    x +=  1\n",
    "}\n",
    "\n",
    "incrementX()\n",
    "println(x)"
   ]
  },
  {
   "cell_type": "markdown",
   "metadata": {},
   "source": [
    "## コメント\n",
    "大部分の現代開発言語と同じKotlinは単行コメントとブロックコメントがあります。"
   ]
  },
  {
   "cell_type": "code",
   "execution_count": 14,
   "metadata": {},
   "outputs": [],
   "source": [
    "// This is a end-of-line comment\n",
    "\n",
    "/* This is a block comment\n",
    "on multiple lines. */"
   ]
  },
  {
   "cell_type": "markdown",
   "metadata": {},
   "source": [
    "Kotlinのブロックコメントは入れ子になれます。"
   ]
  },
  {
   "cell_type": "code",
   "execution_count": 15,
   "metadata": {},
   "outputs": [],
   "source": [
    "/* The comment start here\n",
    "/* contains a nested comment */\n",
    "and ends here. */"
   ]
  },
  {
   "cell_type": "markdown",
   "metadata": {},
   "source": [
    "# 文字列\n",
    "##　一般文字列 "
   ]
  },
  {
   "cell_type": "code",
   "execution_count": 16,
   "metadata": {},
   "outputs": [
    {
     "name": "stdout",
     "output_type": "stream",
     "text": [
      "I'm a String.\n"
     ]
    }
   ],
   "source": [
    "val str = \"I'm a String.\"\n",
    "println(str)"
   ]
  },
  {
   "cell_type": "markdown",
   "metadata": {},
   "source": [
    "### String templateを使って文字列を表示する。"
   ]
  },
  {
   "cell_type": "markdown",
   "metadata": {},
   "source": [
    "Javaで変数を文字列に挿入する場合下記のように「+」オペレーターで文字列と変数を結びつけることが必要です。"
   ]
  },
  {
   "cell_type": "code",
   "execution_count": 17,
   "metadata": {},
   "outputs": [
    {
     "name": "stdout",
     "output_type": "stream",
     "text": [
      "a is 1.\n"
     ]
    }
   ],
   "source": [
    "var a = 1\n",
    "val s1 = \"a is \" + a + \".\"\n",
    "println(s1)"
   ]
  },
  {
   "cell_type": "markdown",
   "metadata": {},
   "source": [
    "このような書き方にはメンテナンスしにくい問題もあります。これを解決するには「文字列テンプレート」を使うべきです。\n",
    "\n",
    "変数そのまま挿入したい場合、変数の前に「$」をつけばいい。"
   ]
  },
  {
   "cell_type": "code",
   "execution_count": 18,
   "metadata": {},
   "outputs": [
    {
     "name": "stdout",
     "output_type": "stream",
     "text": [
      "a is 1\n"
     ]
    }
   ],
   "source": [
    "val s2 = \"a is $a\"\n",
    "println(s2)"
   ]
  },
  {
   "cell_type": "markdown",
   "metadata": {},
   "source": [
    "複雑の式を使いたいの場合、まず「{}」を使ってその式を包んで、その後先頭に「$」をつけばいいです。"
   ]
  },
  {
   "cell_type": "code",
   "execution_count": 19,
   "metadata": {},
   "outputs": [
    {
     "name": "stdout",
     "output_type": "stream",
     "text": [
      "a was 1, but now is 2\n"
     ]
    }
   ],
   "source": [
    "a = 2\n",
    "val s3 = \"${s2.replace(\"is\", \"was\")}, but now is $a\"\n",
    "println(s3)"
   ]
  },
  {
   "cell_type": "markdown",
   "metadata": {},
   "source": [
    "### 特殊文字列のエスケープ\n",
    "\n",
    "下記のように文字列の中に「\"」が含まれる場合、エスケープする必要があります。"
   ]
  },
  {
   "cell_type": "code",
   "execution_count": 20,
   "metadata": {},
   "outputs": [
    {
     "name": "stdout",
     "output_type": "stream",
     "text": [
      "The kid asked,\"How's it going, Eve?\"\n"
     ]
    }
   ],
   "source": [
    "val name = \"Eve\"\n",
    "val escaped = \"The kid asked,\\\"How's it going, $name?\\\"\"\n",
    "println(escaped)"
   ]
  },
  {
   "cell_type": "markdown",
   "metadata": {},
   "source": [
    "でもこの書き方を使うと、読みづらくて、メンテナンスしにくい点があります。すると、Raw Stringを使えばこの問題が解決できます。"
   ]
  },
  {
   "cell_type": "markdown",
   "metadata": {},
   "source": [
    "## Raw String"
   ]
  },
  {
   "cell_type": "code",
   "execution_count": 21,
   "metadata": {},
   "outputs": [
    {
     "name": "stdout",
     "output_type": "stream",
     "text": [
      "The kid asked, \"How's it going, Eve?\"\n"
     ]
    }
   ],
   "source": [
    "val raw = \"\"\"The kid asked, \"How's it going, $name?\"\"\"\"\n",
    "println(raw)"
   ]
  },
  {
   "cell_type": "markdown",
   "metadata": {},
   "source": [
    "一般文字列で複数行で文字列を定義したい場合下記のように定義しなければいけません。、"
   ]
  },
  {
   "cell_type": "code",
   "execution_count": 22,
   "metadata": {},
   "outputs": [
    {
     "name": "stdout",
     "output_type": "stream",
     "text": [
      "Dear Eve, a quick reminder about the\n",
      "party we have scheduled next Tuesday at\n",
      "the'Low Cafe'at Noon. | Please plan to ...\n",
      "\n"
     ]
    }
   ],
   "source": [
    "val memo = \"Dear $name, a quick reminder about the\\n\" + \n",
    "    \"party we have scheduled next Tuesday at\\n\" + \n",
    "    \"the'Low Cafe'at Noon. | Please plan to ...\\n\"\n",
    "println(memo)"
   ]
  },
  {
   "cell_type": "markdown",
   "metadata": {},
   "source": [
    "ここでRaw Stringを使えば、読みやすさとメンテナンスしやすさが向上できます。"
   ]
  },
  {
   "cell_type": "code",
   "execution_count": 23,
   "metadata": {},
   "outputs": [
    {
     "name": "stdout",
     "output_type": "stream",
     "text": [
      "Dear Eve, a quick reminder about the\n",
      "party we have scheduled net Tuesday at\n",
      "the 'Low Ceremony Cafe' at Noon. | Please plan to...\n"
     ]
    }
   ],
   "source": [
    "val memo =\"\"\"Dear $name, a quick reminder about the\n",
    "party we have scheduled net Tuesday at\n",
    "the 'Low Ceremony Cafe' at Noon. | Please plan to...\"\"\"\n",
    "println(memo)"
   ]
  },
  {
   "cell_type": "markdown",
   "metadata": {},
   "source": [
    "但し、このRaw Stringをそのまま関数の中に定義すると、先頭に余計な空白が入ることもあります。"
   ]
  },
  {
   "cell_type": "code",
   "execution_count": 24,
   "metadata": {},
   "outputs": [
    {
     "name": "stdout",
     "output_type": "stream",
     "text": [
      "Dear Eve, a quick reminder about the\n",
      "        party we have scheduled next Tuesday at\n",
      "        the 'Low Ceremony Cafe'at Noon.. | Please plan to...\n"
     ]
    }
   ],
   "source": [
    "fun createMemoFor(name: String): String {\n",
    "    if(name == \"Eve\") {\n",
    "        val memo = \"\"\"Dear $name, a quick reminder about the\n",
    "        party we have scheduled next Tuesday at\n",
    "        the 'Low Ceremony Cafe'at Noon.. | Please plan to...\"\"\"\n",
    "        \n",
    "        return memo\n",
    "    }\n",
    "    \n",
    "    return \"\"\n",
    "}\n",
    "\n",
    "println(createMemoFor(name))"
   ]
  },
  {
   "cell_type": "markdown",
   "metadata": {},
   "source": [
    "下記のようにtrimMarginを使えばこの問題も簡単に解決できます。"
   ]
  },
  {
   "cell_type": "code",
   "execution_count": 25,
   "metadata": {},
   "outputs": [
    {
     "name": "stdout",
     "output_type": "stream",
     "text": [
      "Dear Eve, a quick reminder about the\n",
      "party we have scheduled next Tuesday at\n",
      "the 'Low Ceremony Cafe'at Noon.. | Please plan to...\n"
     ]
    }
   ],
   "source": [
    "fun createMemoFor(name: String): String {\n",
    "    if(name == \"Eve\") {\n",
    "        val memo = \"\"\"Dear $name, a quick reminder about the\n",
    "        |party we have scheduled next Tuesday at\n",
    "        |the 'Low Ceremony Cafe'at Noon.. | Please plan to...\"\"\"\n",
    "        \n",
    "        return memo.trimMargin()\n",
    "    }\n",
    "    \n",
    "    return \"\"\n",
    "}\n",
    "\n",
    "println(createMemoFor(name))"
   ]
  },
  {
   "cell_type": "markdown",
   "metadata": {},
   "source": [
    "当然「|」を使いたくなければ、別の符号（例えば～）を使って、それを引数としてtrimMarginに渡せばちゃんとできます。例えば`memo.trimMargin(\"~\")`"
   ]
  },
  {
   "cell_type": "markdown",
   "metadata": {},
   "source": [
    "## 条件分岐式"
   ]
  },
  {
   "cell_type": "code",
   "execution_count": 26,
   "metadata": {},
   "outputs": [
    {
     "name": "stdout",
     "output_type": "stream",
     "text": [
      "6\n"
     ]
    }
   ],
   "source": [
    "fun maxOf(a: Int, b: Int): Int {\n",
    "    if (a > b) {\n",
    "        return a\n",
    "    } else {\n",
    "        return b\n",
    "    }\n",
    "}\n",
    "println(maxOf(6, 3))"
   ]
  },
  {
   "cell_type": "markdown",
   "metadata": {},
   "source": [
    "## 命令より式の方を多く使いましょう\n",
    "\n",
    "JavaやC＃やJavascriptなど、式(expression)より命令(statements)の法が多く使われましたーif命令やfor命令やtryなどなど。だがRubyやF#やGroovyやHaskellなどほかの開発元号は命令より多くの式を使いました。\n",
    "\n",
    "命令が広く使われると、欠点があります。彼らは何も戻りません。そして副作用もあります。その副作用の一つはステータスの改変です。例えば、変数を改変する、ファイルへ書き込む、データベースを更新する、リモートサービスへデータを送り込む、ハードドライバを破損させるなど、式はそれより良い、彼らはstateを改変する代わりに新しい結果を戻ります。\n",
    "\n",
    "まずはJavaやC#の用に下記のコードを書きます。"
   ]
  },
  {
   "cell_type": "code",
   "execution_count": 27,
   "metadata": {},
   "outputs": [
    {
     "name": "stdout",
     "output_type": "stream",
     "text": [
      "Eve, nope, please come back\n"
     ]
    }
   ],
   "source": [
    "fun canVote(name: String, age: Int): String {\n",
    "    var status: String\n",
    "    if(age > 17)\n",
    "        status = \"yes, please vote\"\n",
    "    else\n",
    "        status = \"nope, please come back\"\n",
    "    return \"$name, $status\"\n",
    "}\n",
    "println(canVote(\"Eve\", 12))"
   ]
  },
  {
   "cell_type": "markdown",
   "metadata": {},
   "source": [
    "ここのifは命令です、改変可能のstatus変数を定義し、それを変更することによって、条件より違う言葉を出力しますが。Kotlinのif文が式として定義できます。"
   ]
  },
  {
   "cell_type": "code",
   "execution_count": 28,
   "metadata": {},
   "outputs": [
    {
     "name": "stdout",
     "output_type": "stream",
     "text": [
      "Eve, yes, please vote\n"
     ]
    }
   ],
   "source": [
    "fun canVote(name: String, age: Int): String {\n",
    "    val status = if(age > 17) \"yes, please vote\" else \"nope, please come back\"\n",
    "    return \"$name, $status\"\n",
    "}\n",
    "println(canVote(\"Eve\", 18))"
   ]
  },
  {
   "cell_type": "markdown",
   "metadata": {},
   "source": [
    "同様、先頭に出たあの条件分岐式はKotlinでの式で書くと下記のようになります。"
   ]
  },
  {
   "cell_type": "code",
   "execution_count": 29,
   "metadata": {},
   "outputs": [
    {
     "name": "stdout",
     "output_type": "stream",
     "text": [
      "6\n",
      "7\n"
     ]
    }
   ],
   "source": [
    "fun maxOf(a: Int, b: Int) = if (a > b) a else b\n",
    "println(maxOf(5, 6))\n",
    "println(maxOf(4, 7))"
   ]
  },
  {
   "cell_type": "markdown",
   "metadata": {},
   "source": [
    "Kotlinのtry-catch文も式として利用できます。"
   ]
  },
  {
   "cell_type": "code",
   "execution_count": 30,
   "metadata": {},
   "outputs": [
    {
     "name": "stdout",
     "output_type": "stream",
     "text": [
      "No exception: 2\n",
      "Have a exception: 4\n"
     ]
    }
   ],
   "source": [
    "fun tryExpr(blowup: Boolean): Int {\n",
    "    return try { \n",
    "        if(blowup) throw RuntimeException(\"fail\") \n",
    "        2\n",
    "    }\n",
    "    catch(ex: Exception) { \n",
    "        4 \n",
    "    } finally {\n",
    "        // ..\n",
    "    }\n",
    "}\n",
    "println(\"No exception: ${tryExpr(false)}\")\n",
    "println(\"Have a exception: ${tryExpr(true)}\")"
   ]
  },
  {
   "cell_type": "markdown",
   "metadata": {},
   "source": [
    "Kotlinの変数の割り当ては式(expression)ではなく命令(statements)なので、下記のコードはエラーになります。"
   ]
  },
  {
   "cell_type": "code",
   "execution_count": 31,
   "metadata": {},
   "outputs": [
    {
     "name": "stderr",
     "output_type": "stream",
     "text": [
      "Line_30.jupyter.kts (5:1 - 6) Assignments are not expressions, and only expressions are allowed in this context"
     ]
    }
   ],
   "source": [
    "var a: Int = 0\n",
    "var b: Int = 0\n",
    "var c: Int = 0\n",
    "c = 4\n",
    "a = b = c"
   ]
  },
  {
   "cell_type": "markdown",
   "metadata": {},
   "source": [
    "## Nullable値およびnullチェック"
   ]
  },
  {
   "cell_type": "markdown",
   "metadata": {},
   "source": [
    "referenceがnull値の可能性ある時必ずnullabelとしてマックしなければいけません。\n",
    "\n",
    "strが数値ではないの場合nullを戻ります。"
   ]
  },
  {
   "cell_type": "code",
   "execution_count": 32,
   "metadata": {},
   "outputs": [],
   "source": [
    "fun parseInt(str: String): Int? {\n",
    "    // ...\n",
    "    return null;\n",
    "}"
   ]
  },
  {
   "cell_type": "markdown",
   "metadata": {},
   "source": [
    "nullable値を戻るファクションを使います。"
   ]
  },
  {
   "cell_type": "code",
   "execution_count": 33,
   "metadata": {},
   "outputs": [],
   "source": [
    "fun printProduct(arg1: String, arg2: String) {\n",
    "    val x = parseInt(arg1)\n",
    "    val y = parseInt(arg2)\n",
    "    \n",
    "    if (x != null && y != null) {\n",
    "        println(x * y)\n",
    "    } else {\n",
    "        println(\"'$arg1' or '$arg2' is not a number\")\n",
    "    }\n",
    "}"
   ]
  },
  {
   "cell_type": "markdown",
   "metadata": {},
   "source": [
    "または："
   ]
  },
  {
   "cell_type": "code",
   "execution_count": 34,
   "metadata": {},
   "outputs": [
    {
     "name": "stderr",
     "output_type": "stream",
     "text": [
      "Line_33.jupyter.kts (3:9 - 18) Condition 'x == null' is always 'false'\n",
      "Line_33.jupyter.kts (7:9 - 10) Unresolved reference: y\n",
      "Line_33.jupyter.kts (11:17 - 18) Unresolved reference: y"
     ]
    }
   ],
   "source": [
    "// ...\n",
    "fun printProduct(arg1: String, arg2: String) {\n",
    "    if (x == null) {\n",
    "        println(\"Wrong number format in arg1: '$arg1'\")\n",
    "        return\n",
    "    }\n",
    "    if (y == null) {\n",
    "        println(\"Wrong number format in arg2: '$arg2'\")\n",
    "        return\n",
    "    }\n",
    "    println(x * y)\n",
    "}\n",
    "\n",
    "printProduct(\"2\", \"5\")"
   ]
  },
  {
   "cell_type": "markdown",
   "metadata": {},
   "source": [
    "## 型チェックおよび自動転換\n",
    "**is**オペレーターで式の実例型。"
   ]
  },
  {
   "cell_type": "code",
   "execution_count": 35,
   "metadata": {},
   "outputs": [
    {
     "name": "stdout",
     "output_type": "stream",
     "text": [
      "13\n",
      "null\n"
     ]
    }
   ],
   "source": [
    "fun getStringLength(obj: Any): Int? {\n",
    "    if (obj is String) {\n",
    "        return obj.length\n",
    "    }\n",
    "    return null\n",
    "}\n",
    "println(getStringLength(\"Hello, world!\"))\n",
    "println(getStringLength(123))"
   ]
  },
  {
   "cell_type": "markdown",
   "metadata": {},
   "source": [
    "または："
   ]
  },
  {
   "cell_type": "code",
   "execution_count": 36,
   "metadata": {},
   "outputs": [],
   "source": [
    "fun getStringLength(obj: Any): Int? {\n",
    "    if (obj !is String) return null\n",
    "    return obj.length\n",
    "}"
   ]
  },
  {
   "cell_type": "markdown",
   "metadata": {},
   "source": [
    "または："
   ]
  },
  {
   "cell_type": "code",
   "execution_count": 37,
   "metadata": {},
   "outputs": [],
   "source": [
    "fun getStringLength(obj: Any): Int? {\n",
    "    if (obj is String && obj.length > 0) {\n",
    "        return obj.length\n",
    "    }\n",
    "    \n",
    "    return null\n",
    "}"
   ]
  },
  {
   "cell_type": "markdown",
   "metadata": {},
   "source": [
    "## for loop"
   ]
  },
  {
   "cell_type": "code",
   "execution_count": 38,
   "metadata": {},
   "outputs": [
    {
     "name": "stdout",
     "output_type": "stream",
     "text": [
      "apple\n",
      "banana\n",
      "kiwifruit\n"
     ]
    }
   ],
   "source": [
    "val items = listOf(\"apple\", \"banana\", \"kiwifruit\")\n",
    "for (item in items) {\n",
    "    println(item)\n",
    "}"
   ]
  },
  {
   "cell_type": "markdown",
   "metadata": {},
   "source": [
    "または："
   ]
  },
  {
   "cell_type": "code",
   "execution_count": 39,
   "metadata": {},
   "outputs": [
    {
     "name": "stdout",
     "output_type": "stream",
     "text": [
      "item at 0 is apple\n",
      "item at 1 is banana\n",
      "item at 2 is kiwifruit\n"
     ]
    }
   ],
   "source": [
    "val items = listOf(\"apple\", \"banana\", \"kiwifruit\")\n",
    "for (index in items.indices) {\n",
    "    println(\"item at $index is ${items[index]}\")\n",
    "}"
   ]
  },
  {
   "cell_type": "markdown",
   "metadata": {},
   "source": [
    "## while loop"
   ]
  },
  {
   "cell_type": "code",
   "execution_count": 40,
   "metadata": {},
   "outputs": [
    {
     "name": "stdout",
     "output_type": "stream",
     "text": [
      "item at 0 is apple\n",
      "item at 1 is banana\n",
      "item at 2 is kiwifruit\n"
     ]
    }
   ],
   "source": [
    "val items = listOf(\"apple\", \"banana\", \"kiwifruit\")\n",
    "var index = 0\n",
    "while (index < items.size) {\n",
    "    println(\"item at $index is ${items[index]}\")\n",
    "    index++\n",
    "}"
   ]
  },
  {
   "cell_type": "markdown",
   "metadata": {},
   "source": [
    "## when expression"
   ]
  },
  {
   "cell_type": "code",
   "execution_count": 41,
   "metadata": {},
   "outputs": [
    {
     "name": "stdout",
     "output_type": "stream",
     "text": [
      "One\n",
      "Not a string\n"
     ]
    }
   ],
   "source": [
    "fun describe(obj: Any): String = \n",
    "    when (obj) {\n",
    "        1 -> \"One\"\n",
    "        \"Hello\" -> \"Greeting\"\n",
    "        is Long -> \"Long\"\n",
    "        !is String -> \"Not a string\"\n",
    "        else -> \"Unknow\"\n",
    "    }\n",
    "    \n",
    "println(describe(1))\n",
    "println(describe(2.5))"
   ]
  },
  {
   "cell_type": "markdown",
   "metadata": {},
   "source": [
    "## Ranges"
   ]
  },
  {
   "cell_type": "markdown",
   "metadata": {},
   "source": [
    "**in**キーワードを使ってnumberがrangeに含まれるか"
   ]
  },
  {
   "cell_type": "code",
   "execution_count": 42,
   "metadata": {},
   "outputs": [
    {
     "name": "stdout",
     "output_type": "stream",
     "text": [
      "fits in range\n"
     ]
    }
   ],
   "source": [
    "val x = 10\n",
    "val y = 9\n",
    "if (x in 1..y + 1) {\n",
    "    println(\"fits in range\")\n",
    "}"
   ]
  },
  {
   "cell_type": "markdown",
   "metadata": {},
   "source": [
    "numberがrangeに含まれない。"
   ]
  },
  {
   "cell_type": "code",
   "execution_count": 43,
   "metadata": {},
   "outputs": [
    {
     "name": "stdout",
     "output_type": "stream",
     "text": [
      "-1 is out of range\n",
      "list size is out of valid list indices range, too\n"
     ]
    }
   ],
   "source": [
    "val list = listOf(\"a\", \"b\", \"c\")\n",
    "\n",
    "if (-1 !in 0..list.lastIndex) {\n",
    "    println(\"-1 is out of range\")\n",
    "}\n",
    "if (list.size !in list.indices) {\n",
    "    println(\"list size is out of valid list indices range, too\")\n",
    "}"
   ]
  },
  {
   "cell_type": "markdown",
   "metadata": {},
   "source": [
    "rangeを循環する"
   ]
  },
  {
   "cell_type": "code",
   "execution_count": 44,
   "metadata": {},
   "outputs": [
    {
     "name": "stdout",
     "output_type": "stream",
     "text": [
      "12345"
     ]
    }
   ],
   "source": [
    "for (x in 1..5) {\n",
    "    print(x)\n",
    "}"
   ]
  },
  {
   "cell_type": "markdown",
   "metadata": {},
   "source": [
    "or over a progression:"
   ]
  },
  {
   "cell_type": "code",
   "execution_count": 45,
   "metadata": {},
   "outputs": [
    {
     "name": "stdout",
     "output_type": "stream",
     "text": [
      "13579\n",
      "9630"
     ]
    }
   ],
   "source": [
    "for (x in 1..10 step 2) {\n",
    "    print(x)\n",
    "}\n",
    "println(\"\")\n",
    "for (x in 9 downTo 0 step 3) {\n",
    "    print(x)\n",
    "}"
   ]
  },
  {
   "cell_type": "markdown",
   "metadata": {},
   "source": [
    "## Collections"
   ]
  },
  {
   "cell_type": "code",
   "execution_count": 46,
   "metadata": {},
   "outputs": [
    {
     "name": "stdout",
     "output_type": "stream",
     "text": [
      "APPLE\n",
      "AVOCADO\n"
     ]
    }
   ],
   "source": [
    "val fruits = listOf(\"banana\", \"avocado\", \"apple\", \"kiwifruit\")\n",
    "fruits\n",
    "    .filter { it.startsWith(\"a\") }\n",
    "    .sortedBy { it }\n",
    "    .map { it.toUpperCase() }\n",
    "    .forEach{ println(it) }"
   ]
  },
  {
   "cell_type": "markdown",
   "metadata": {},
   "source": [
    "## Creating basic classes and their instances"
   ]
  },
  {
   "cell_type": "code",
   "execution_count": 47,
   "metadata": {},
   "outputs": [
    {
     "name": "stderr",
     "output_type": "stream",
     "text": [
      "Line_46.jupyter.kts (1:17 - 26) Unresolved reference: Rectangle\n",
      "Line_46.jupyter.kts (2:16 - 24) Unresolved reference: Triangle"
     ]
    }
   ],
   "source": [
    "val rectangle = Rectangle(5.0, 2.0)\n",
    "val triangle = Triangle(3.0, 4.0, 5.0)"
   ]
  },
  {
   "cell_type": "code",
   "execution_count": null,
   "metadata": {},
   "outputs": [],
   "source": []
  }
 ],
 "metadata": {
  "kernelspec": {
   "display_name": "Kotlin",
   "language": "kotlin",
   "name": "kotlin"
  },
  "language_info": {
   "codemirror_mode": "text/x-kotlin",
   "file_extension": ".kt",
   "mimetype": "text/x-kotlin",
   "name": "kotlin",
   "pygments_lexer": "kotlin",
   "version": "1.5.0-dev-1206"
  }
 },
 "nbformat": 4,
 "nbformat_minor": 4
}
