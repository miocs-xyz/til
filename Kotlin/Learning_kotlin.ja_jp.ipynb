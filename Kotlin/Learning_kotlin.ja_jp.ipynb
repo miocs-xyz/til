{
 "cells": [
  {
   "cell_type": "markdown",
   "metadata": {},
   "source": [
    "# 基本構文\n",
    "## パッケージの定義および導入\n",
    "パッケージ明細（specification）はソースコードの一番上に書きます。"
   ]
  },
  {
   "cell_type": "code",
   "execution_count": 1,
   "metadata": {},
   "outputs": [],
   "source": [
    "package my.demo\n",
    "import kotlin.text.*"
   ]
  },
  {
   "cell_type": "markdown",
   "metadata": {},
   "source": [
    "ディレクトリーとパッケージが一致する必要がありません。ソースファイルは**任意場所**に置くことが可能です。"
   ]
  },
  {
   "cell_type": "markdown",
   "metadata": {},
   "source": [
    "## プログラムの入り口\n",
    "Kotlinアプリの入り口は**main関数**です。"
   ]
  },
  {
   "cell_type": "code",
   "execution_count": 2,
   "metadata": {},
   "outputs": [],
   "source": [
    "fun main() {\n",
    "    // \"Hello world!\"を出力します。\n",
    "    println(\"Hello world!\")\n",
    "}"
   ]
  },
  {
   "cell_type": "markdown",
   "metadata": {},
   "source": [
    "## 関数\n",
    "下記のは2つのInt型の引数を受けってInt型の値を戻ります。"
   ]
  },
  {
   "cell_type": "code",
   "execution_count": 6,
   "metadata": {},
   "outputs": [],
   "source": [
    "fun sum(a: Int, b: Int): Int {\n",
    "    return a + b\n",
    "}"
   ]
  },
  {
   "cell_type": "markdown",
   "metadata": {},
   "source": [
    "式関数および推測戻り値"
   ]
  },
  {
   "cell_type": "code",
   "execution_count": 7,
   "metadata": {},
   "outputs": [],
   "source": [
    "fun sum(a: Int, b: Int) = a + b"
   ]
  },
  {
   "cell_type": "markdown",
   "metadata": {},
   "source": [
    "戻り値なしの関数"
   ]
  },
  {
   "cell_type": "code",
   "execution_count": 8,
   "metadata": {},
   "outputs": [],
   "source": [
    "fun printSum(a: Int, b: Int): Unit {\n",
    "    println(\"sum of $a and $b is ${a + b}\")\n",
    "}"
   ]
  },
  {
   "cell_type": "markdown",
   "metadata": {},
   "source": [
    "Unitは省力可能です。"
   ]
  },
  {
   "cell_type": "code",
   "execution_count": 9,
   "metadata": {},
   "outputs": [],
   "source": [
    "fun printSum(a: Int, b: Int) {\n",
    "    println(\"sum of  $a and $b is ${a + b}\")\n",
    "}"
   ]
  },
  {
   "cell_type": "markdown",
   "metadata": {},
   "source": [
    "## 変数\n",
    "読み専用のローカル変数は**val**キーワードで定義されます。1回のみ振り分けできます。"
   ]
  },
  {
   "cell_type": "code",
   "execution_count": 10,
   "metadata": {},
   "outputs": [
    {
     "name": "stderr",
     "output_type": "stream",
     "text": [
      "Line_9.jupyter.kts (4:1 - 2) Captured member values initialization is forbidden due to possible reassignment"
     ]
    }
   ],
   "source": [
    "val a: Int = 1\n",
    "val b = 2\n",
    "val c: Int\n",
    "c = 3"
   ]
  },
  {
   "cell_type": "markdown",
   "metadata": {},
   "source": [
    "再振り分け可能な変数は**var**キーワードで定義されます。"
   ]
  },
  {
   "cell_type": "code",
   "execution_count": 12,
   "metadata": {},
   "outputs": [
    {
     "name": "stdout",
     "output_type": "stream",
     "text": [
      "6\n"
     ]
    }
   ],
   "source": [
    "var x = 5\n",
    "x += 1\n",
    "println(x)"
   ]
  },
  {
   "cell_type": "markdown",
   "metadata": {},
   "source": [
    "最外層変数："
   ]
  },
  {
   "cell_type": "code",
   "execution_count": 15,
   "metadata": {},
   "outputs": [
    {
     "name": "stdout",
     "output_type": "stream",
     "text": [
      "0\n",
      "1\n"
     ]
    }
   ],
   "source": [
    "val PI = 3.14\n",
    "var x = 0\n",
    "println(x)\n",
    "fun incrementX() {\n",
    "    x +=  1\n",
    "}\n",
    "\n",
    "incrementX()\n",
    "println(x)"
   ]
  },
  {
   "cell_type": "markdown",
   "metadata": {},
   "source": [
    "## コメント\n",
    "大部分の現代開発言語と同じKotlinは単行コメントとブロックコメントがあります。"
   ]
  },
  {
   "cell_type": "code",
   "execution_count": null,
   "metadata": {},
   "outputs": [],
   "source": [
    "// This is a end-of-line comment\n",
    "\n",
    "/* This is a block comment\n",
    "on multiple lines. */"
   ]
  },
  {
   "cell_type": "markdown",
   "metadata": {},
   "source": [
    "Kotlinのブロックコメントは入れ子になれます。"
   ]
  },
  {
   "cell_type": "code",
   "execution_count": null,
   "metadata": {},
   "outputs": [],
   "source": [
    "/* The comment start here\n",
    "/* contains a nested comment */\n",
    "and ends here. */"
   ]
  },
  {
   "cell_type": "markdown",
   "metadata": {},
   "source": [
    "## String templates"
   ]
  },
  {
   "cell_type": "code",
   "execution_count": 16,
   "metadata": {},
   "outputs": [
    {
     "name": "stdout",
     "output_type": "stream",
     "text": [
      "a is 1\n",
      "a was 1, but now is 2\n"
     ]
    }
   ],
   "source": [
    "var a = 1\n",
    "val s1 = \"a is $a\"\n",
    "println(s1)\n",
    "\n",
    "a = 2\n",
    "val s2 = \"${s1.replace(\"is\", \"was\")}, but now is $a\"\n",
    "println(s2)"
   ]
  },
  {
   "cell_type": "markdown",
   "metadata": {},
   "source": [
    "## 条件分岐式"
   ]
  },
  {
   "cell_type": "code",
   "execution_count": 18,
   "metadata": {},
   "outputs": [
    {
     "name": "stdout",
     "output_type": "stream",
     "text": [
      "6\n"
     ]
    }
   ],
   "source": [
    "fun maxOf(a: Int, b: Int): Int {\n",
    "    if (a > b) {\n",
    "        return a\n",
    "    } else {\n",
    "        return b\n",
    "    }\n",
    "}\n",
    "println(maxOf(6, 3))"
   ]
  },
  {
   "cell_type": "markdown",
   "metadata": {},
   "source": [
    "Kotlinにifは式として使えます。"
   ]
  },
  {
   "cell_type": "code",
   "execution_count": null,
   "metadata": {},
   "outputs": [],
   "source": [
    "fun maxOf(a: Int, b: Int) = if (a > b) a else b"
   ]
  },
  {
   "cell_type": "markdown",
   "metadata": {},
   "source": [
    "## Nullable値およびnullチェック"
   ]
  },
  {
   "cell_type": "markdown",
   "metadata": {},
   "source": [
    "referenceがnull値の可能性ある時必ずnullabelとしてマックしなければいけません。\n",
    "\n",
    "strが数値ではないの場合nullを戻ります。"
   ]
  },
  {
   "cell_type": "code",
   "execution_count": 5,
   "metadata": {},
   "outputs": [],
   "source": [
    "fun parseInt(str: String): Int? {\n",
    "    // ...\n",
    "    return null;\n",
    "}"
   ]
  },
  {
   "cell_type": "markdown",
   "metadata": {},
   "source": [
    "nullable値を戻るファクションを使います。"
   ]
  },
  {
   "cell_type": "code",
   "execution_count": 4,
   "metadata": {},
   "outputs": [
    {
     "name": "stderr",
     "output_type": "stream",
     "text": [
      "Line_3.jupyter.kts (2:13 - 21) Unresolved reference: parseInt\n",
      "Line_3.jupyter.kts (3:13 - 21) Unresolved reference: parseInt"
     ]
    }
   ],
   "source": [
    "fun printProduct(arg1: String, arg2: String) {\n",
    "    val x = parseInt(arg1)\n",
    "    val y = parseInt(arg2)\n",
    "    \n",
    "    if (x != null && y != null) {\n",
    "        println(x * y)\n",
    "    } else {\n",
    "        println(\"'$arg1' or '$arg2' is not a number\")\n",
    "    }\n",
    "}"
   ]
  },
  {
   "cell_type": "markdown",
   "metadata": {},
   "source": [
    "または："
   ]
  },
  {
   "cell_type": "code",
   "execution_count": 19,
   "metadata": {},
   "outputs": [
    {
     "name": "stderr",
     "output_type": "stream",
     "text": [
      "Line_18.jupyter.kts (2:5 - 14) Condition 'x == null' is always 'false'\n",
      "Line_18.jupyter.kts (3:45 - 49) Unresolved reference: arg1\n",
      "Line_18.jupyter.kts (4:5 - 11) 'return' is not allowed here\n",
      "Line_18.jupyter.kts (6:5 - 6) Unresolved reference: y\n",
      "Line_18.jupyter.kts (7:45 - 49) Unresolved reference: arg2\n",
      "Line_18.jupyter.kts (8:5 - 11) 'return' is not allowed here\n",
      "Line_18.jupyter.kts (11:13 - 14) Unresolved reference: y"
     ]
    }
   ],
   "source": [
    "// ...\n",
    "if (x == null) {\n",
    "    println(\"Wrong number format in arg1: '$arg1'\")\n",
    "    return\n",
    "}\n",
    "if (y == null) {\n",
    "    println(\"Wrong number format in arg2: '$arg2'\")\n",
    "    return\n",
    "}\n",
    "\n",
    "println(x * y)"
   ]
  },
  {
   "cell_type": "markdown",
   "metadata": {},
   "source": [
    "## 型チェックおよび自動転換\n",
    "**is**オペレーターで式の実例型。"
   ]
  },
  {
   "cell_type": "code",
   "execution_count": 21,
   "metadata": {},
   "outputs": [
    {
     "name": "stdout",
     "output_type": "stream",
     "text": [
      "13\n",
      "null\n"
     ]
    }
   ],
   "source": [
    "fun getStringLength(obj: Any): Int? {\n",
    "    if (obj is String) {\n",
    "        return obj.length\n",
    "    }\n",
    "    return null\n",
    "}\n",
    "println(getStringLength(\"Hello, world!\"))\n",
    "println(getStringLength(123))"
   ]
  },
  {
   "cell_type": "markdown",
   "metadata": {},
   "source": [
    "または："
   ]
  },
  {
   "cell_type": "code",
   "execution_count": null,
   "metadata": {},
   "outputs": [],
   "source": [
    "fun getStringLength(obj: Any): Int? {\n",
    "    if (obj !is String) return null\n",
    "    return obj.length\n",
    "}"
   ]
  },
  {
   "cell_type": "markdown",
   "metadata": {},
   "source": [
    "または："
   ]
  },
  {
   "cell_type": "code",
   "execution_count": null,
   "metadata": {},
   "outputs": [],
   "source": [
    "fun getStringLength(obj: Any): Int? {\n",
    "    if (obj is String && obj.length > 0) {\n",
    "        return obj.length\n",
    "    }\n",
    "    \n",
    "    return null\n",
    "}"
   ]
  },
  {
   "cell_type": "markdown",
   "metadata": {},
   "source": [
    "## for loop"
   ]
  },
  {
   "cell_type": "code",
   "execution_count": 22,
   "metadata": {},
   "outputs": [
    {
     "name": "stdout",
     "output_type": "stream",
     "text": [
      "apple\n",
      "banana\n",
      "kiwifruit\n"
     ]
    }
   ],
   "source": [
    "val items = listOf(\"apple\", \"banana\", \"kiwifruit\")\n",
    "for (item in items) {\n",
    "    println(item)\n",
    "}"
   ]
  },
  {
   "cell_type": "markdown",
   "metadata": {},
   "source": [
    "または："
   ]
  },
  {
   "cell_type": "code",
   "execution_count": 23,
   "metadata": {},
   "outputs": [
    {
     "name": "stdout",
     "output_type": "stream",
     "text": [
      "item at 0 is apple\n",
      "item at 1 is banana\n",
      "item at 2 is kiwifruit\n"
     ]
    }
   ],
   "source": [
    "val items = listOf(\"apple\", \"banana\", \"kiwifruit\")\n",
    "for (index in items.indices) {\n",
    "    println(\"item at $index is ${items[index]}\")\n",
    "}"
   ]
  },
  {
   "cell_type": "markdown",
   "metadata": {},
   "source": [
    "## while loop"
   ]
  },
  {
   "cell_type": "code",
   "execution_count": 24,
   "metadata": {},
   "outputs": [
    {
     "name": "stdout",
     "output_type": "stream",
     "text": [
      "item at 0 is apple\n",
      "item at 1 is banana\n",
      "item at 2 is kiwifruit\n"
     ]
    }
   ],
   "source": [
    "val items = listOf(\"apple\", \"banana\", \"kiwifruit\")\n",
    "var index = 0\n",
    "while (index < items.size) {\n",
    "    println(\"item at $index is ${items[index]}\")\n",
    "    index++\n",
    "}"
   ]
  },
  {
   "cell_type": "markdown",
   "metadata": {},
   "source": [
    "## when expression"
   ]
  },
  {
   "cell_type": "code",
   "execution_count": 27,
   "metadata": {},
   "outputs": [
    {
     "name": "stdout",
     "output_type": "stream",
     "text": [
      "One\n",
      "Not a string\n"
     ]
    }
   ],
   "source": [
    "fun describe(obj: Any): String = \n",
    "    when (obj) {\n",
    "        1 -> \"One\"\n",
    "        \"Hello\" -> \"Greeting\"\n",
    "        is Long -> \"Long\"\n",
    "        !is String -> \"Not a string\"\n",
    "        else -> \"Unknow\"\n",
    "    }\n",
    "    \n",
    "println(describe(1))\n",
    "println(describe(2.5))"
   ]
  },
  {
   "cell_type": "markdown",
   "metadata": {},
   "source": [
    "## Ranges"
   ]
  },
  {
   "cell_type": "markdown",
   "metadata": {},
   "source": [
    "**in**キーワードを使ってnumberがrangeに含まれるか"
   ]
  },
  {
   "cell_type": "code",
   "execution_count": 28,
   "metadata": {},
   "outputs": [
    {
     "name": "stdout",
     "output_type": "stream",
     "text": [
      "fits in range\n"
     ]
    }
   ],
   "source": [
    "val x = 10\n",
    "val y = 9\n",
    "if (x in 1..y + 1) {\n",
    "    println(\"fits in range\")\n",
    "}"
   ]
  },
  {
   "cell_type": "markdown",
   "metadata": {},
   "source": [
    "numberがrangeに含まれない。"
   ]
  },
  {
   "cell_type": "code",
   "execution_count": 29,
   "metadata": {},
   "outputs": [
    {
     "name": "stdout",
     "output_type": "stream",
     "text": [
      "-1 is out of range\n",
      "list size is out of valid list indices range, too\n"
     ]
    }
   ],
   "source": [
    "val list = listOf(\"a\", \"b\", \"c\")\n",
    "\n",
    "if (-1 !in 0..list.lastIndex) {\n",
    "    println(\"-1 is out of range\")\n",
    "}\n",
    "if (list.size !in list.indices) {\n",
    "    println(\"list size is out of valid list indices range, too\")\n",
    "}"
   ]
  },
  {
   "cell_type": "markdown",
   "metadata": {},
   "source": [
    "rangeを循環する"
   ]
  },
  {
   "cell_type": "code",
   "execution_count": 30,
   "metadata": {},
   "outputs": [
    {
     "name": "stdout",
     "output_type": "stream",
     "text": [
      "12345"
     ]
    }
   ],
   "source": [
    "for (x in 1..5) {\n",
    "    print(x)\n",
    "}"
   ]
  },
  {
   "cell_type": "markdown",
   "metadata": {},
   "source": [
    "or over a progression:"
   ]
  },
  {
   "cell_type": "code",
   "execution_count": 35,
   "metadata": {},
   "outputs": [
    {
     "name": "stdout",
     "output_type": "stream",
     "text": [
      "13579\n",
      "9630"
     ]
    }
   ],
   "source": [
    "for (x in 1..10 step 2) {\n",
    "    print(x)\n",
    "}\n",
    "println(\"\")\n",
    "for (x in 9 downTo 0 step 3) {\n",
    "    print(x)\n",
    "}"
   ]
  },
  {
   "cell_type": "markdown",
   "metadata": {},
   "source": [
    "## Collections"
   ]
  },
  {
   "cell_type": "code",
   "execution_count": 32,
   "metadata": {},
   "outputs": [
    {
     "name": "stdout",
     "output_type": "stream",
     "text": [
      "APPLE\n",
      "AVOCADO\n"
     ]
    }
   ],
   "source": [
    "val fruits = listOf(\"banana\", \"avocado\", \"apple\", \"kiwifruit\")\n",
    "fruits\n",
    "    .filter { it.startsWith(\"a\") }\n",
    "    .sortedBy { it }\n",
    "    .map { it.toUpperCase() }\n",
    "    .forEach{ println(it) }"
   ]
  },
  {
   "cell_type": "markdown",
   "metadata": {},
   "source": [
    "## Creating basic classes and their instances"
   ]
  },
  {
   "cell_type": "code",
   "execution_count": 33,
   "metadata": {},
   "outputs": [
    {
     "name": "stderr",
     "output_type": "stream",
     "text": [
      "Line_32.jupyter.kts (1:17 - 26) Unresolved reference: Rectangle\n",
      "Line_32.jupyter.kts (2:16 - 24) Unresolved reference: Triangle"
     ]
    }
   ],
   "source": [
    "val rectangle = Rectangle(5.0, 2.0)\n",
    "val triangle = Triangle(3.0, 4.0, 5.0)"
   ]
  },
  {
   "cell_type": "code",
   "execution_count": null,
   "metadata": {},
   "outputs": [],
   "source": []
  }
 ],
 "metadata": {
  "kernelspec": {
   "display_name": "Kotlin",
   "language": "kotlin",
   "name": "kotlin"
  },
  "language_info": {
   "codemirror_mode": "text/x-kotlin",
   "file_extension": ".kt",
   "mimetype": "text/x-kotlin",
   "name": "kotlin",
   "pygments_lexer": "kotlin",
   "version": "1.4.30-dev-3354"
  }
 },
 "nbformat": 4,
 "nbformat_minor": 4
}
