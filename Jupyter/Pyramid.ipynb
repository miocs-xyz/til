{
 "cells": [
  {
   "cell_type": "markdown",
   "metadata": {},
   "source": [
    "# Pyramid Note\n",
    "## Install\n",
    "At file you should install the pipenv\n",
    "### **How to install pipenv using pipx**\n",
    "1.**Install pipx**\n",
    "```bash\n",
    "pip install --user pipx\n",
    "```\n",
    "2.**Add bin folder to environment variable**\n",
    "```bash\n",
    "export PATH = ${HOME}/.local/bin:$PATH\n",
    "```\n",
    "3.**Install pipenv**\n",
    "```bash\n",
    "pipx install pipenv\n",
    "```\n",
    "4.**Install pyramid and the template engine.**\n",
    "```bash\n",
    "pipenv install pyramid\n",
    "pipenv install pyramid_jinjia2 // If you want to build a view.\n",
    "```\n",
    "It's fine, now we can use pyramid to build a web application."
   ]
  },
  {
   "cell_type": "code",
   "execution_count": 1,
   "metadata": {},
   "outputs": [
    {
     "name": "stdout",
     "output_type": "stream",
     "text": [
      "Hello Jupyter\n"
     ]
    }
   ],
   "source": [
    "print(\"Hello\", \"Jupyter\")"
   ]
  }
 ],
 "metadata": {
  "kernelspec": {
   "display_name": "Python 3",
   "language": "python",
   "name": "python3"
  },
  "language_info": {
   "codemirror_mode": {
    "name": "ipython",
    "version": 3
   },
   "file_extension": ".py",
   "mimetype": "text/x-python",
   "name": "python",
   "nbconvert_exporter": "python",
   "pygments_lexer": "ipython3",
   "version": "3.9.1"
  }
 },
 "nbformat": 4,
 "nbformat_minor": 4
}